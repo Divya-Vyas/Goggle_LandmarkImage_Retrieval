{
 "cells": [
  {
   "cell_type": "markdown",
   "metadata": {
    "_cell_guid": "b1076dfc-b9ad-4769-8c92-a6c4dae69d19",
    "_uuid": "8f2839f25d086af736a60e9eeb907d3b93b6e0e5"
   },
   "source": [
    "## About\n",
    "\n",
    "In this notebook, I'll create a submission with the models of [GLRet21: EfficientNetB0 Baseline Training](https://www.kaggle.com/hidehisaarai1213/glret21-efficientnetb0-baseline-training).\n",
    "\n",
    "This notebook is based on [DELG_global_baseline](https://www.kaggle.com/wowfattie/delg-global-baseline)."
   ]
  },
  {
   "cell_type": "code",
   "execution_count": 1,
   "metadata": {
    "execution": {
     "iopub.execute_input": "2022-01-19T11:20:57.431621Z",
     "iopub.status.busy": "2022-01-19T11:20:57.431282Z",
     "iopub.status.idle": "2022-01-19T11:21:54.809298Z",
     "shell.execute_reply": "2022-01-19T11:21:54.808363Z",
     "shell.execute_reply.started": "2022-01-19T11:20:57.431533Z"
    }
   },
   "outputs": [],
   "source": [
    "#!pip install ../input/kerasapplications/ > /dev/null\n",
    "#!pip install ../input/efficientnet-keras-source-code/ > /dev/null"
   ]
  },
  {
   "cell_type": "code",
   "execution_count": 4,
   "metadata": {
    "execution": {
     "iopub.execute_input": "2022-01-19T11:31:36.155122Z",
     "iopub.status.busy": "2022-01-19T11:31:36.154757Z",
     "iopub.status.idle": "2022-01-19T11:31:36.160944Z",
     "shell.execute_reply": "2022-01-19T11:31:36.159939Z",
     "shell.execute_reply.started": "2022-01-19T11:31:36.155084Z"
    }
   },
   "outputs": [],
   "source": [
    "import gc\n",
    "import os\n",
    "import math\n",
    "import random\n",
    "import re\n",
    "import warnings\n",
    "from pathlib import Path\n",
    "from PIL import Image\n",
    "from typing import Optional, Tuple\n",
    "\n",
    "import efficientnet.tfkeras as efn\n",
    "import numpy as np\n",
    "import pandas as pd\n",
    "import tensorflow as tf\n",
    "from scipy import spatial\n",
    "from sklearn.preprocessing import normalize\n",
    "from tqdm import tqdm"
   ]
  },
  {
   "cell_type": "code",
   "execution_count": 5,
   "metadata": {
    "execution": {
     "iopub.execute_input": "2022-01-19T11:31:37.453050Z",
     "iopub.status.busy": "2022-01-19T11:31:37.452385Z",
     "iopub.status.idle": "2022-01-19T11:31:37.462491Z",
     "shell.execute_reply": "2022-01-19T11:31:37.461565Z",
     "shell.execute_reply.started": "2022-01-19T11:31:37.453003Z"
    }
   },
   "outputs": [],
   "source": [
    "tf.__version__"
   ]
  },
  {
   "cell_type": "code",
   "execution_count": 6,
   "metadata": {
    "execution": {
     "iopub.execute_input": "2022-01-19T11:31:43.507649Z",
     "iopub.status.busy": "2022-01-19T11:31:43.507328Z",
     "iopub.status.idle": "2022-01-19T11:31:43.534796Z",
     "shell.execute_reply": "2022-01-19T11:31:43.533810Z",
     "shell.execute_reply.started": "2022-01-19T11:31:43.507613Z"
    }
   },
   "outputs": [],
   "source": [
    "import h5py\n",
    "hf = h5py.File('../input/glret21-efficientnetb0-baseline-training/fold2.h5', 'r')\n",
    "print(hf.keys())"
   ]
  },
  {
   "cell_type": "code",
   "execution_count": 7,
   "metadata": {
    "execution": {
     "iopub.execute_input": "2022-01-19T11:31:51.323107Z",
     "iopub.status.busy": "2022-01-19T11:31:51.322757Z",
     "iopub.status.idle": "2022-01-19T11:31:51.626722Z",
     "shell.execute_reply": "2022-01-19T11:31:51.625828Z",
     "shell.execute_reply.started": "2022-01-19T11:31:51.323076Z"
    }
   },
   "outputs": [],
   "source": [
    "print(\"Num GPUs Available: \", len(tf.config.experimental.list_physical_devices('GPU')))"
   ]
  },
  {
   "cell_type": "markdown",
   "metadata": {},
   "source": [
    "## Settings"
   ]
  },
  {
   "cell_type": "code",
   "execution_count": 8,
   "metadata": {
    "execution": {
     "iopub.execute_input": "2022-01-19T11:31:58.379912Z",
     "iopub.status.busy": "2022-01-19T11:31:58.379587Z",
     "iopub.status.idle": "2022-01-19T11:31:58.384047Z",
     "shell.execute_reply": "2022-01-19T11:31:58.383161Z",
     "shell.execute_reply.started": "2022-01-19T11:31:58.379870Z"
    }
   },
   "outputs": [],
   "source": [
    "DATADIR = Path(\"../input/landmark-retrieval-2021/\")\n",
    "TEST_IMG_DIR = DATADIR / \"test\"\n",
    "TRAIN_IMG_DIR = DATADIR / \"index\"\n",
    "\n",
    "TOPK = 100\n",
    "N_CLASSES = 81313 #total number of unique landmark images "
   ]
  },
  {
   "cell_type": "markdown",
   "metadata": {},
   "source": [
    "## Utilities"
   ]
  },
  {
   "cell_type": "code",
   "execution_count": 9,
   "metadata": {
    "execution": {
     "iopub.execute_input": "2022-01-19T11:32:02.851975Z",
     "iopub.status.busy": "2022-01-19T11:32:02.851611Z",
     "iopub.status.idle": "2022-01-19T11:32:02.857777Z",
     "shell.execute_reply": "2022-01-19T11:32:02.856278Z",
     "shell.execute_reply.started": "2022-01-19T11:32:02.851942Z"
    }
   },
   "outputs": [],
   "source": [
    "import time\n",
    "from contextlib import contextmanager\n",
    "\n",
    "\n",
    "@contextmanager\n",
    "def timer(name):\n",
    "    t0 = time.time()\n",
    "    print(f\"[{name}]\")\n",
    "    yield\n",
    "    print(f\"[{name}] done in {time.time() - t0:.0f}s\")"
   ]
  },
  {
   "cell_type": "markdown",
   "metadata": {},
   "source": [
    "## Model"
   ]
  },
  {
   "cell_type": "markdown",
   "metadata": {},
   "source": [
    "## Feature Extraction"
   ]
  },
  {
   "cell_type": "code",
   "execution_count": 10,
   "metadata": {
    "execution": {
     "iopub.execute_input": "2022-01-19T11:32:12.738440Z",
     "iopub.status.busy": "2022-01-19T11:32:12.738106Z",
     "iopub.status.idle": "2022-01-19T11:32:12.742668Z",
     "shell.execute_reply": "2022-01-19T11:32:12.741828Z",
     "shell.execute_reply.started": "2022-01-19T11:32:12.738411Z"
    }
   },
   "outputs": [],
   "source": [
    "def extract_global_features(image_root_dir, n_models=4):\n",
    "    pass\n",
    "\n",
    "    #return ids, embeddings"
   ]
  },
  {
   "cell_type": "markdown",
   "metadata": {},
   "source": [
    "## Main"
   ]
  },
  {
   "cell_type": "code",
   "execution_count": 11,
   "metadata": {
    "execution": {
     "iopub.execute_input": "2022-01-19T11:32:19.821822Z",
     "iopub.status.busy": "2022-01-19T11:32:19.821452Z",
     "iopub.status.idle": "2022-01-19T11:32:19.834222Z",
     "shell.execute_reply": "2022-01-19T11:32:19.833183Z",
     "shell.execute_reply.started": "2022-01-19T11:32:19.821787Z"
    }
   },
   "outputs": [],
   "source": [
    "def final_predictions():\n",
    "    with timer(\"test embadding images\"):\n",
    "        test_ids,test_lmimages = extract_global_features(str(TEST_IMG_DIR)) \n",
    "    \n",
    "    with timer(\"train embadding images\"):\n",
    "        train_ids,train_lmimages = extract_global_features(str(TRAIN_IMG_DIR))\n",
    "        \n",
    "    Prediction_string_list = []\n",
    "    with timer(\"Images_compare\"):\n",
    "        #shape return-(row ,column)and shape[0]means row(total number of images in test_lmimages) \n",
    "        for text_index in range(test_lmimages.shape[0]):#range(total test_lmimages)\n",
    "            distances = spatial.distance.cdist(test_lmimages[np.newaxis, test_index, :], train_lmimages, 'cosine')[0]\n",
    "            partition = np.argpartition(distances, TOPK)[:TOPK]\n",
    "            nearest = sorted([(train_ids[p], distances[p]) for p in partition], key=lambda x: x[1])\n",
    "            pred_str = \"\"\n",
    "            for train_id, cosine_distance in nearest:\n",
    "                pred_str += train_id\n",
    "                pred_str += \" \"\n",
    "            Prediction_string_list.append(pred_str)\n",
    "\n",
    "    return test_ids, Prediction_string_list\n",
    "\n",
    "            \n",
    "def main():\n",
    "    test_images_list = []\n",
    "    for root,dirs,files in os.walk(str(TEST_IMG_DIR)):\n",
    "        for file in files:\n",
    "            if file.endswith('.jpg'):#all images are in jpg formate only\n",
    "                test_images_list.append(os.path.join(root, file))\n",
    "    \n",
    "    if len(test_images_list) == 1129:\n",
    "        sub_df = pd.read_csv('../input/landmark-retrieval-2021/sample_submission.csv')\n",
    "        sub_df.to_csv('submission.csv', index=False)\n",
    "        return\n",
    "    \n",
    "    test_ids,Prediction_string_list = final_predictions()\n",
    "    sub_df = pd.DataFrame(data={'id':test_ids, 'images':Prediction_string_list })\n",
    "    sub_df.to_csv('submission.csv', index=False)\n",
    "\n",
    "\n",
    "        \n",
    "    "
   ]
  },
  {
   "cell_type": "code",
   "execution_count": 12,
   "metadata": {
    "execution": {
     "iopub.execute_input": "2022-01-19T11:32:24.070695Z",
     "iopub.status.busy": "2022-01-19T11:32:24.070367Z",
     "iopub.status.idle": "2022-01-19T11:32:27.863757Z",
     "shell.execute_reply": "2022-01-19T11:32:27.862960Z",
     "shell.execute_reply.started": "2022-01-19T11:32:24.070664Z"
    }
   },
   "outputs": [],
   "source": [
    "main()"
   ]
  },
  {
   "cell_type": "code",
   "execution_count": null,
   "metadata": {},
   "outputs": [],
   "source": []
  }
 ],
 "metadata": {
  "kernelspec": {
   "display_name": "Python 3 (ipykernel)",
   "language": "python",
   "name": "python3"
  },
  "language_info": {
   "codemirror_mode": {
    "name": "ipython",
    "version": 3
   },
   "file_extension": ".py",
   "mimetype": "text/x-python",
   "name": "python",
   "nbconvert_exporter": "python",
   "pygments_lexer": "ipython3",
   "version": "3.9.7"
  },
  "varInspector": {
   "cols": {
    "lenName": 16,
    "lenType": 16,
    "lenVar": 40
   },
   "kernels_config": {
    "python": {
     "delete_cmd_postfix": "",
     "delete_cmd_prefix": "del ",
     "library": "var_list.py",
     "varRefreshCmd": "print(var_dic_list())"
    },
    "r": {
     "delete_cmd_postfix": ") ",
     "delete_cmd_prefix": "rm(",
     "library": "var_list.r",
     "varRefreshCmd": "cat(var_dic_list()) "
    }
   },
   "types_to_exclude": [
    "module",
    "function",
    "builtin_function_or_method",
    "instance",
    "_Feature"
   ],
   "window_display": false
  }
 },
 "nbformat": 4,
 "nbformat_minor": 4
}
